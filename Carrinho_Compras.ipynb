{
 "cells": [
  {
   "cell_type": "markdown",
   "metadata": {},
   "source": [
    "# Carrinho de compras"
   ]
  },
  {
   "cell_type": "code",
   "execution_count": 1,
   "metadata": {},
   "outputs": [
    {
     "name": "stdout",
     "output_type": "stream",
     "text": [
      "[{'nome': 'Vela aromática', 'quantidade': 140, 'preco': 4.0}, {'nome': 'Gaita de foles', 'quantidade': 1, 'preco': 895.35}, {'nome': 'Rolo de barbante', 'quantidade': 5, 'preco': 5.0}, {'nome': 'Chápeu de escoteiro', 'quantidade': 2, 'preco': 62.9}, {'nome': 'Metralhadora', 'quantidade': 1, 'preco': 1500.0}]\n"
     ]
    }
   ],
   "source": [
    "# Carrinho de compras\n",
    "carrinho = [\n",
    "    {\"nome\" : \"Vela aromática\", \"quantidade\" : 140, \"preco\" : 4.00},\n",
    "    {\"nome\" : \"Gaita de foles\", \"quantidade\" : 1, \"preco\" : 895.35},\n",
    "    {\"nome\" : \"Rolo de barbante\", \"quantidade\" : 5, \"preco\" : 5.00},\n",
    "    {\"nome\" : \"Chápeu de escoteiro\", \"quantidade\" : 2, \"preco\" : 62.90},\n",
    "    {\"nome\" : \"Metralhadora\", \"quantidade\" : 1, \"preco\" : 1500.00}\n",
    "]\n",
    "\n",
    "print(carrinho)"
   ]
  },
  {
   "cell_type": "markdown",
   "metadata": {},
   "source": [
    "### Remoção de itens"
   ]
  },
  {
   "cell_type": "code",
   "execution_count": 2,
   "metadata": {},
   "outputs": [
    {
     "name": "stdout",
     "output_type": "stream",
     "text": [
      "Carrinho: [{'nome': 'Gaita de foles', 'quantidade': 1, 'preco': 895.35}, {'nome': 'Rolo de barbante', 'quantidade': 5, 'preco': 5.0}, {'nome': 'Chápeu de escoteiro', 'quantidade': 2, 'preco': 62.9}, {'nome': 'Metralhadora', 'quantidade': 1, 'preco': 1500.0}]\n",
      "Item removido: {'nome': 'Vela aromática', 'quantidade': 140, 'preco': 4.0}\n"
     ]
    }
   ],
   "source": [
    "# Remove item\n",
    "item_removido = carrinho.pop(0)\n",
    "\n",
    "# Mostra carrinho atualizado e item removido\n",
    "print(f\"Carrinho: {carrinho}\")\n",
    "print(f\"Item removido: {item_removido}\")"
   ]
  },
  {
   "cell_type": "markdown",
   "metadata": {},
   "source": [
    "### Adição de itens"
   ]
  },
  {
   "cell_type": "code",
   "execution_count": 3,
   "metadata": {},
   "outputs": [
    {
     "name": "stdout",
     "output_type": "stream",
     "text": [
      "Carrinho: [{'nome': 'Gaita de foles', 'quantidade': 1, 'preco': 895.35}, {'nome': 'Rolo de barbante', 'quantidade': 5, 'preco': 5.0}, {'nome': 'Chápeu de escoteiro', 'quantidade': 2, 'preco': 62.9}, {'nome': 'Metralhadora', 'quantidade': 1, 'preco': 1500.0}, {'nome': 'Pacote de balas de coco', 'quantidade': 8, 'preco': 15.4}]\n"
     ]
    }
   ],
   "source": [
    "# Adiciona novo item\n",
    "novo_item = {\"nome\" : \"Pacote de balas de coco\", \"quantidade\" : 8, \"preco\" : 15.40}\n",
    "carrinho.append(novo_item)\n",
    "\n",
    "# Mostra carrinho atualizado\n",
    "print(f\"Carrinho: {carrinho}\")"
   ]
  },
  {
   "cell_type": "markdown",
   "metadata": {},
   "source": [
    "### Cálculo de preço"
   ]
  },
  {
   "cell_type": "code",
   "execution_count": 4,
   "metadata": {},
   "outputs": [
    {
     "name": "stdout",
     "output_type": "stream",
     "text": [
      "Total: 2669.35\n"
     ]
    }
   ],
   "source": [
    "# Cálculo de valores de cada produto\n",
    "quantidade1 = carrinho[0][\"quantidade\"]\n",
    "preco1 = carrinho[0][\"preco\"]\n",
    "valor1 = round(quantidade1 * preco1, 2)\n",
    "\n",
    "quantidade2 = carrinho[1][\"quantidade\"]\n",
    "preco2 = carrinho[1][\"preco\"]\n",
    "valor2 = round(quantidade2 * preco2, 2)\n",
    "\n",
    "quantidade3 = carrinho[2][\"quantidade\"]\n",
    "preco3 = carrinho[2][\"preco\"]\n",
    "valor3 = round(quantidade3 * preco3, 2)\n",
    "\n",
    "quantidade4 = carrinho[3][\"quantidade\"]\n",
    "preco4 = carrinho[3][\"preco\"]\n",
    "valor4 = round(quantidade4 * preco4, 2)\n",
    "\n",
    "quantidade5 = carrinho[4][\"quantidade\"]\n",
    "preco5 = carrinho[4][\"preco\"]\n",
    "valor5 = round(quantidade5 * preco5, 2)\n",
    "\n",
    "# Soma de valores\n",
    "total = round(valor1 + valor2 + valor3 + valor4 + valor5, 2)\n",
    "# Resultado\n",
    "print(f\"Total: {total}\")"
   ]
  }
 ],
 "metadata": {
  "kernelspec": {
   "display_name": "base",
   "language": "python",
   "name": "python3"
  },
  "language_info": {
   "codemirror_mode": {
    "name": "ipython",
    "version": 3
   },
   "file_extension": ".py",
   "mimetype": "text/x-python",
   "name": "python",
   "nbconvert_exporter": "python",
   "pygments_lexer": "ipython3",
   "version": "3.12.7"
  }
 },
 "nbformat": 4,
 "nbformat_minor": 2
}
